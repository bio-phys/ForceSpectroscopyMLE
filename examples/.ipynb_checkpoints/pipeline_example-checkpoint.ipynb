{
 "cells": [
  {
   "cell_type": "code",
   "execution_count": null,
   "metadata": {},
   "outputs": [],
   "source": [
    "using Base.Threads, ForceSpectroscopyMLE, Plots\n",
    "\n",
    "println(string(\"Number of available cores for threading: \", nthreads()))"
   ]
  },
  {
   "cell_type": "markdown",
   "metadata": {},
   "source": [
    "# Introduction"
   ]
  },
  {
   "cell_type": "markdown",
   "metadata": {},
   "source": [
    "This is a minimal example on how to apply our framework to a set of rupture forces measured at different pulling velocities.  We assume that the data files are stored in the directory `rupture_forces`.  Each file should be of the form:"
   ]
  },
  {
   "cell_type": "code",
   "execution_count": null,
   "metadata": {},
   "outputs": [],
   "source": [
    "example_F = [ 129.0, 134.0, 137.0, 130.0 ] # pN\n",
    "example_dF = [ 10.0, 15.5, 10.8, 10.3, 8.2 ] # pN/s\n",
    "example_data = hcat([example_F, example_dF]...)"
   ]
  },
  {
   "cell_type": "markdown",
   "metadata": {},
   "source": [
    "This is a minimal example on how to apply our framework to a set of rupture forces measured at different pulling velocities.  We assume that the data files (consisting of columns of rupture forces and associated loading rates, in that order) are stored in the directory `rupture_forces`. Reading in the data goes as follows:"
   ]
  },
  {
   "cell_type": "code",
   "execution_count": null,
   "metadata": {},
   "outputs": [],
   "source": [
    "data = read_data(\"./rupture_forces/\")\n",
    "all_data = vcat(data...);"
   ]
  },
  {
   "cell_type": "markdown",
   "metadata": {},
   "source": [
    "The analysis depends on the choice of the parameter $\\nu \\in \\{1/2, 2/3, 1 \\}$, which we fix below:"
   ]
  },
  {
   "cell_type": "code",
   "execution_count": null,
   "metadata": {},
   "outputs": [],
   "source": [
    "const ν = 2/3;"
   ]
  },
  {
   "cell_type": "markdown",
   "metadata": {},
   "source": [
    "For more details on the theoretical framework, please refer to the associated publication:\n",
    "\n",
    "> W. Cai, J. T. Bullerjahn, M. Lallemang, K. Kroy, B. N. Balzer, and T. Hugel, \"Direction dependence of bond strength and polymer chain elasticity\", submitted."
   ]
  },
  {
   "cell_type": "markdown",
   "metadata": {},
   "source": [
    "# Data trimming"
   ]
  },
  {
   "cell_type": "markdown",
   "metadata": {},
   "source": [
    "We now systematically trim the $i = 0, 1, 2, \\dots, i_{\\text{max}}$ largest rupture forces from each subsample `data[k]` of our data to explore how that effects the parameter estimates.  We then compare the results to the case, where $i$ randomly chosen rupture forces are excluded.  "
   ]
  },
  {
   "cell_type": "code",
   "execution_count": null,
   "metadata": {
    "scrolled": true
   },
   "outputs": [],
   "source": [
    "const i_max = 10\n",
    "params = data_exclusion([data],ν,i_max)\n",
    "random_params = random_data_exclusion([data],ν,i_max);"
   ]
  },
  {
   "cell_type": "code",
   "execution_count": null,
   "metadata": {},
   "outputs": [],
   "source": [
    "p = plot(params[1,:],hcat([params[2,:],random_params[2,:]]...), \n",
    "    legend=:topleft, labels=[\"trimming from above\" \"random exclusion of points\"], \n",
    "    xlabel=\"percentage of excluded data points\", ylabel=\"βΔG_u\")"
   ]
  },
  {
   "cell_type": "code",
   "execution_count": null,
   "metadata": {},
   "outputs": [],
   "source": [
    "p = plot(params[1,:],hcat([params[3,:],random_params[3,:]]...), \n",
    "    legend=:topleft, labels=[\"trimming from above\" \"random exclusion of points\"], \n",
    "    xlabel=\"percentage of excluded data points\", ylabel=\"x_u [nm]\")"
   ]
  },
  {
   "cell_type": "code",
   "execution_count": null,
   "metadata": {},
   "outputs": [],
   "source": [
    "p = plot(params[1,:], hcat([params[4,:],random_params[4,:]]...), \n",
    "    yscale=:log10, yticks=[ 10.0^(-i) for i = 1 : 3], yminorticks=true, \n",
    "    legend=:bottomleft, labels=[\"trimming from above\" \"random exclusion of points\"], \n",
    "    xlabel=\"percentage of excluded data points\", ylabel=\"k_0 [1/s]\")"
   ]
  },
  {
   "cell_type": "markdown",
   "metadata": {},
   "source": [
    "The resulting mean rupture force $\\langle F \\rangle$ converges with increasing $i$, as demonstrated below:"
   ]
  },
  {
   "cell_type": "code",
   "execution_count": null,
   "metadata": {},
   "outputs": [],
   "source": [
    "const β = 1/(1.38064852e-23*1e12*1e9*295) # Temperature assumed at \n",
    "\n",
    "Fdot = [ exp(x) for x in round(log(10^3);digits=1):0.1:round(log(2*10^6);digits=1) ];\n",
    "mF_0 = meanF.(β,params[2,0+1],params[3,0+1],params[4,0+1],2/3,Fdot)\n",
    "mF_1 = meanF.(β,params[2,1+1],params[3,1+1],params[4,1+1],2/3,Fdot)\n",
    "mF_2 = meanF.(β,params[2,2+1],params[3,2+1],params[4,2+1],2/3,Fdot)\n",
    "mF_3 = meanF.(β,params[2,3+1],params[3,3+1],params[4,3+1],2/3,Fdot)\n",
    "mF_4 = meanF.(β,params[2,4+1],params[3,4+1],params[4,4+1],2/3,Fdot)\n",
    "mF_5 = meanF.(β,params[2,5+1],params[3,5+1],params[4,5+1],2/3,Fdot)\n",
    "#sdF = sqrt.(varF.(params[2,i+1],params[3,i+1],params[4,i+1],2/3,Fdot))\n",
    "\n",
    "plot(all_data[:,2], all_data[:,1], seriestype = :scatter, color=:lightgrey, \n",
    "    xscale=:log10, xlims=(2*10^3,1.5*10^6), xticks=[ 10^i for i = 1 : 6], xminorticks=true, \n",
    "    ylims=(0.0,3000.0), \n",
    "    legend=:topleft, label=\"experimental data\", \n",
    "    xlabel=\"loading rate [pN/s]\", \n",
    "    ylabel=\"rupture force [pN]\")\n",
    "p = plot!(Fdot, hcat([mF_0, mF_1, mF_3, mF_5]...), #=ribbon=sdF,=# \n",
    "    labels=[\"i=0\" \"i=1\" \"i=3\" \"i=5\"], linewidth=2)"
   ]
  },
  {
   "cell_type": "markdown",
   "metadata": {},
   "source": [
    "From the plots above, we read off the threshold value $i_{\\text{trim}}$, where the slope of the parameter curves suddenly switches.  The resulting trimmed data can then be analyzed to extract parameter and error estimates.  "
   ]
  },
  {
   "cell_type": "markdown",
   "metadata": {},
   "source": [
    "# MLE analysis of the data"
   ]
  },
  {
   "cell_type": "code",
   "execution_count": null,
   "metadata": {},
   "outputs": [],
   "source": [
    "const i_trim = 5 # determined from the above plots\n",
    "trimmed_data = reduce_data(data,i_trim)\n",
    "trimmed_all_data = vcat(trimmed_data...);"
   ]
  },
  {
   "cell_type": "code",
   "execution_count": null,
   "metadata": {},
   "outputs": [],
   "source": [
    "const N = 100 # number of resampled data sets for bootstrapping\n",
    "global_estimates = MLE_estimator(trimmed_all_data,ν)\n",
    "global_errors = MLE_errors(trimmed_all_data,ν,N)\n",
    "\n",
    "println(\"Estimates:\")\n",
    "println(string(\"βΔG_u = \", global_estimates[1], \" ± \", global_errors[1]))\n",
    "println(string(\"x_u = \", global_estimates[2], \" ± \", global_errors[2]))\n",
    "println(string(\"k_0 = \", global_estimates[3], \" ± \", global_errors[3]))"
   ]
  },
  {
   "cell_type": "markdown",
   "metadata": {},
   "source": [
    "Note that the error estimates can vary significantly between runs if the number $N$ of bootstrapping samples is small.  For large $N$ the computation can become sluggish, so it is recommended to run the command `export JULIA_NUM_THREADS=`, with `n` being the number of available (physical) cores, before launching Julia.  This speeds up the numerics significantly.  "
   ]
  },
  {
   "cell_type": "code",
   "execution_count": null,
   "metadata": {},
   "outputs": [],
   "source": []
  }
 ],
 "metadata": {
  "kernelspec": {
   "display_name": "Julia 1.6.1",
   "language": "julia",
   "name": "julia-1.6"
  },
  "language_info": {
   "file_extension": ".jl",
   "mimetype": "application/julia",
   "name": "julia",
   "version": "1.6.1"
  }
 },
 "nbformat": 4,
 "nbformat_minor": 4
}
